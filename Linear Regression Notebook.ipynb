{
 "cells": [
  {
   "cell_type": "code",
   "execution_count": 170,
   "metadata": {
    "collapsed": false
   },
   "outputs": [],
   "source": [
    "from statistics import mean\n",
    "import numpy as np\n",
    "from sklearn.datasets import make_circles, make_regression, make_moons\n",
    "from matplotlib.pyplot import style\n",
    "style.use('ggplot')\n",
    "\n"
   ]
  },
  {
   "cell_type": "code",
   "execution_count": 182,
   "metadata": {},
   "outputs": [
    {
     "data": {
      "image/png": "[encoded data removed]",
      "text/plain": [
       "<matplotlib.figure.Figure at 0x15e37cf8>"
      ]
     },
     "metadata": {},
     "output_type": "display_data"
    }
   ],
   "source": [
    "#Create Test dataset using sklearn\n",
    "X, y = make_regression(n_samples=2, n_features=1, noise=0)\n",
    "X = X.ravel()\n",
    "\n",
    "\n",
    "# plot regression dataset\n",
    "pyplot.scatter(X,y)\n",
    "pyplot.show()"
   ]
  },
  {
   "cell_type": "code",
   "execution_count": 183,
   "metadata": {},
   "outputs": [],
   "source": [
    "def best_fit_gradient(x_vars, y_vars):  \n",
    "    m = (((mean(x_vars)*mean(y_vars)) - mean(x_vars*y_vars))/\n",
    "         ((mean(x_vars)**2 - mean(x_vars**2))))\n",
    "    return m\n",
    "def calc_y_intercept(gradient, x_vars, y_vars):\n",
    "    c = mean(y_vars) - gradient*(mean(x_vars))\n",
    "    return c\n",
    "def squared_error(y_vars, y_line):\n",
    "    se = sum((y_line - y_vars) * (y_line * y_vars))\n",
    "    return se\n",
    "\n",
    "def coefficient_of_determmination(y_vars, y_line):\n",
    "    y_mean_line = [mean(y_vars) for y in y_vars]\n",
    "    squared_error_regr = squared_error(y_vars, y_line)\n",
    "    squared_error_y_mean = squared_error(y_vars,y_mean_line)\n",
    "    return 1 - (squared_error_regr/squared_error_y_mean)"
   ]
  },
  {
   "cell_type": "code",
   "execution_count": 184,
   "metadata": {},
   "outputs": [
    {
     "name": "stdout",
     "output_type": "stream",
     "text": [
      "30.98240377425915\n-1.7763568394002505e-15\n"
     ]
    }
   ],
   "source": [
    "m = best_fit_gradient(X,y)\n",
    "print(m)\n",
    "c = calc_y_intercept(m, X, y)\n",
    "print c"
   ]
  },
  {
   "cell_type": "code",
   "execution_count": 185,
   "metadata": {},
   "outputs": [],
   "source": [
    ""
   ]
  },
  {
   "cell_type": "code",
   "execution_count": 185,
   "metadata": {},
   "outputs": [
    {
     "data": {
      "image/png": "[encoded data removed]",
      "text/plain": [
       "<matplotlib.figure.Figure at 0x152a3400>"
      ]
     },
     "metadata": {},
     "output_type": "display_data"
    }
   ],
   "source": [
    "#Create the line to plot\n",
    "line = []\n",
    "for x in X:\n",
    "    line.append(m*x + c)\n",
    "    \n",
    "pyplot.scatter(X,y)\n",
    "pyplot.plot(X, line)\n",
    "pyplot.show()\n"
   ]
  },
  {
   "cell_type": "code",
   "execution_count": 186,
   "metadata": {},
   "outputs": [
    {
     "name": "stdout",
     "output_type": "stream",
     "text": [
      "123.9296150970366\n1.0000000000000004\n"
     ]
    }
   ],
   "source": [
    "#Predicting with linear regression is pretty trivial \n",
    "x_to_pred = 4\n",
    "\n",
    "pred_y = m*4 + c\n",
    "print(pred_y)\n",
    "\n",
    "regression_line = [(m*x) + c for x in X]\n",
    "\n",
    "r_squared = coefficient_of_determmination(y,regression_line)\n",
    "print(r_squared) "
   ]
  },
  {
   "cell_type": "code",
   "execution_count": 187,
   "metadata": {},
   "outputs": [],
   "source": []
  },
  {
   "cell_type": "code",
   "execution_count": null,
   "metadata": {},
   "outputs": [],
   "source": []
  }
 ],
 "metadata": {
  "kernelspec": {
   "display_name": "Python 2",
   "language": "python",
   "name": "python2"
  },
  "language_info": {
   "codemirror_mode": {
    "name": "ipython",
    "version": 2
   },
   "file_extension": ".py",
   "mimetype": "text/x-python",
   "name": "python",
   "nbconvert_exporter": "python",
   "pygments_lexer": "ipython2",
   "version": "2.7.6"
  }
 },
 "nbformat": 4,
 "nbformat_minor": 0
}
